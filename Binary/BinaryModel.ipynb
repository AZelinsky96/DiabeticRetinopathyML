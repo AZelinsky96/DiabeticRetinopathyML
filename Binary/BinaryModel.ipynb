{
 "cells": [
  {
   "cell_type": "code",
   "execution_count": 3,
   "metadata": {},
   "outputs": [],
   "source": [
    "import matplotlib.pyplot as plt\n",
    "import cv2\n",
    "\n",
    "\n",
    "from keras.preprocessing.image import ImageDataGenerator\n",
    "from keras.models import Sequential\n",
    "from keras.layers import Activation, Dropout, Flatten, Conv2D, MaxPooling2D, Dense, BatchNormalization\n",
    "from keras import optimizers,metrics \n",
    "\n",
    "import warnings \n",
    "#warnings.filterwarnings('ignore')\n",
    "\n",
    "import os\n",
    "import random \n",
    "import numpy as np\n",
    "from sklearn.metrics import confusion_matrix\n",
    "import numpy as np\n",
    "import pandas as pd\n",
    "\n",
    "\n",
    "np.random.seed(42)"
   ]
  },
  {
   "cell_type": "code",
   "execution_count": 4,
   "metadata": {},
   "outputs": [],
   "source": [
    "def conf_matrix(model, model_type, data_generator): \n",
    "    from sklearn.metrics import confusion_matrix\n",
    "    import numpy as np\n",
    "    import pandas as pd\n",
    "    predictions = model.predict_generator(data_generator, steps = np.ceil(data_generator.samples / batch_size))\n",
    "    \n",
    "    if model_type == \"binary\": \n",
    "        pred_classes = np.round(predictions)\n",
    "    else: \n",
    "        pred_classes = np.argmax(predictions, axis = 1)\n",
    "    true_classes = data_generator.classes\n",
    "    class_labels = list(data_generator.class_indices.keys())  \n",
    "    conf_matrix = pd.DataFrame(confusion_matrix(true_classes, pred_classes), columns = class_labels)\n",
    "    #conf_matrix.index = class_labels\n",
    "\n",
    "    return conf_matrix"
   ]
  },
  {
   "cell_type": "code",
   "execution_count": 5,
   "metadata": {},
   "outputs": [],
   "source": [
    "def plot_results(results_1, accuracy_type = \"binary_accuracy\", model_name = \"NewModel\"): \n",
    "    import matplotlib.pyplot as plt\n",
    "    if accuracy_type == \"binary_accuracy\": \n",
    "        validation_acc = \"val_binary_accuracy\"\n",
    "        \n",
    "    epoch = epoch = list(map(lambda x: str(x + 1), list(range(len(results_1.history['loss'])) )))\n",
    "    fig = plt.figure(figsize = (15,15))\n",
    "    ax1 = plt.subplot(211)\n",
    "    ax2 = plt.subplot(212) \n",
    "    ax1.plot(epoch, results_1.history[accuracy_type], label = \"Training Accuracy\", color = 'green')\n",
    "    ax1.plot(epoch, results_1.history[validation_acc], label = 'Validation Accuracy', color = 'blue')\n",
    "    ax1.set_title(\"Comaprison of Training Accuracy\\n to Validation Accuracy with Display of Loss\")   \n",
    "    ax1.legend()\n",
    "    ax1.set_xticklabels([])\n",
    "    ax1.set_ylabel(\"Accuracy\")\n",
    "    ax2.plot(epoch, results_1.history['loss'], label = 'Training Loss', color = \"green\")\n",
    "    ax2.plot(epoch, results_1.history['val_loss'], label = 'Validation Loss')\n",
    "    ax2.set_ylabel(\"Loss Value\")\n",
    "    ax2.set_xlabel(\"Epoch\")\n",
    "    ax2.set_xticklabels([])\n",
    "    ax2.legend()\n",
    "    \n",
    "    plt.savefig(model_name+\".png\")\n",
    "    plt.show()"
   ]
  },
  {
   "cell_type": "code",
   "execution_count": 6,
   "metadata": {},
   "outputs": [],
   "source": [
    "def train_model(model, epochs, train_generator, batch_size, validation_generator, validation_steps): \n",
    "    \n",
    "    import warnings \n",
    "    warnings.filterwarnings('ignore')\n",
    "    results = model.fit_generator(train_generator, \n",
    "                              epochs = epochs, \n",
    "                              steps_per_epoch = round(train_generator.samples // batch_size), \n",
    "                              validation_data = validation_generator,\n",
    "                              validation_steps = validation_steps)\n",
    "    return results"
   ]
  },
  {
   "cell_type": "code",
   "execution_count": 7,
   "metadata": {},
   "outputs": [],
   "source": [
    "def display_distributions(classes, directory): \n",
    "    os.chdir(directory)\n",
    "    count = {}\n",
    "    for p in classes:\n",
    "        os.chdir(p)\n",
    "        count[p] = len(os.listdir())\n",
    "        os.chdir(\"..\")\n",
    "        \n",
    "    plt.bar(list(count.keys()), list(count.values()))\n",
    "    plt.xticks(rotation = \"90\")\n",
    "    plt.title(\"{} Distribution\".format(directory.split(\"/\")[-1]))\n",
    "    plt.show()\n",
    "    os.chdir(base)"
   ]
  },
  {
   "cell_type": "code",
   "execution_count": 8,
   "metadata": {},
   "outputs": [
    {
     "name": "stdout",
     "output_type": "stream",
     "text": [
      "/home/zeski/Documents/PythonLessons/MachineLearning/Projects/DiabeticRetinopathy/ProjectData/Binary/Grayscale/\n",
      "/home/zeski/Documents/PythonLessons/MachineLearning/Projects/DiabeticRetinopathy/ProjectData/Binary/Grayscale/train\n",
      "/home/zeski/Documents/PythonLessons/MachineLearning/Projects/DiabeticRetinopathy/ProjectData/Binary/Grayscale/test\n",
      " ['Binary_model.png', 'BinaryModel2.ipynb', 'Train', 'Grayscale', 'BinaryModel.ipynb', '.ipynb_checkpoints', 'Test', 'Diabetic_Retinopathy', 'Binary_Model2_1.h5', 'Binary_Model2_1_confusion.png', 'No_Diabetic_Retinopathy', 'train_test.py', 'Binary_Model1.h5', 'Binary_Model2.h5']\n"
     ]
    }
   ],
   "source": [
    "base       = \"/home/zeski/Documents/PythonLessons/MachineLearning/Projects/DiabeticRetinopathy/ProjectData/Binary/Grayscale/\"\n",
    "train_base = \"/home/zeski/Documents/PythonLessons/MachineLearning/Projects/DiabeticRetinopathy/ProjectData/Binary/Grayscale/train\"\n",
    "#test_base  = \"/home/zeski/Documents/PythonLessons/MachineLearning/Projects/DiabeticRetinopathy/ProjectData/Binary/Test\"\n",
    "val_base   = \"/home/zeski/Documents/PythonLessons/MachineLearning/Projects/DiabeticRetinopathy/ProjectData/Binary/Grayscale/test\"\n",
    "\n",
    "print(base +  \"\\n\" +  train_base +  \"\\n\" +  val_base +  \"\\n\", os.listdir())"
   ]
  },
  {
   "cell_type": "code",
   "execution_count": 15,
   "metadata": {},
   "outputs": [
    {
     "name": "stdout",
     "output_type": "stream",
     "text": [
      "/home/zeski/Documents/PythonLessons/MachineLearning/Projects/DiabeticRetinopathy/ProjectData/Binary/Grayscale/\n",
      "/home/zeski/Documents/PythonLessons/MachineLearning/Projects/DiabeticRetinopathy/ProjectData/Binary/Grayscale/train\n",
      "/home/zeski/Documents/PythonLessons/MachineLearning/Projects/DiabeticRetinopathy/ProjectData/Binary/Grayscale/test\n",
      " ['Binary_model.png', 'BinaryModel2.ipynb', 'Train', 'Grayscale', 'BinaryModel.ipynb', 'BinaryModel2_Structure.png', '.ipynb_checkpoints', 'Test', 'Diabetic_Retinopathy', 'Binary_Model2_1.h5', 'BinaryModel1_confusion.png', 'Binary_Model2_1_confusion.png', 'No_Diabetic_Retinopathy', 'train_test.py', 'Binary_Model1.h5', 'Binary_Model2.h5', 'BinaryModel1_Structure.png']\n"
     ]
    }
   ],
   "source": [
    "base_color       = \"/home/zeski/Documents/PythonLessons/MachineLearning/Projects/DiabeticRetinopathy/ProjectData/Binary/\"\n",
    "train_base_color = \"/home/zeski/Documents/PythonLessons/MachineLearning/Projects/DiabeticRetinopathy/ProjectData/Binary/Train\"\n",
    "val_base_color   = \"/home/zeski/Documents/PythonLessons/MachineLearning/Projects/DiabeticRetinopathy/ProjectData/Binary/Test\"\n",
    "\n",
    "print(base +  \"\\n\" +  train_base +  \"\\n\" +  val_base +  \"\\n\", os.listdir())"
   ]
  },
  {
   "cell_type": "markdown",
   "metadata": {},
   "source": [
    "## Looking into the distribution of the binary classes"
   ]
  },
  {
   "cell_type": "code",
   "execution_count": 7,
   "metadata": {},
   "outputs": [
    {
     "data": {
      "image/png": "[encoded data removed]",
      "text/plain": [
       "<Figure size 432x288 with 1 Axes>"
      ]
     },
     "metadata": {
      "needs_background": "light"
     },
     "output_type": "display_data"
    },
    {
     "data": {
      "image/png": "[encoded data removed]",
      "text/plain": [
       "<Figure size 432x288 with 1 Axes>"
      ]
     },
     "metadata": {
      "needs_background": "light"
     },
     "output_type": "display_data"
    }
   ],
   "source": [
    "display_distributions([\"Diabetic_Retinopathy\", \"No_Diabetic_Retinopathy\"], train_base)\n",
    "display_distributions([\"Diabetic_Retinopathy\", \"No_Diabetic_Retinopathy\"], val_base)"
   ]
  },
  {
   "cell_type": "code",
   "execution_count": 9,
   "metadata": {},
   "outputs": [
    {
     "name": "stdout",
     "output_type": "stream",
     "text": [
      "Found 372 images belonging to 2 classes.\n",
      "Found 0 images belonging to 2 classes.\n",
      "Found 0 images belonging to 2 classes.\n"
     ]
    }
   ],
   "source": [
    "input_shape = (256,256,3)\n",
    "batch_size = 20\n",
    "\n",
    "## Experimenting with histogram equalizations and contrast adjustments\n",
    "\n",
    "\n",
    "\n",
    "\n",
    "## Building the image generators: \n",
    "image_gen = ImageDataGenerator(rotation_range = 45, \n",
    "                              width_shift_range= 0.1, \n",
    "                              height_shift_range= 0.1, \n",
    "                              rescale = 1/255, \n",
    "                              shear_range = 0.1, \n",
    "                              zoom_range = 0.1, \n",
    "                              horizontal_flip = True, \n",
    "                              vertical_flip= True, \n",
    "                              )\n",
    "\n",
    "image_gen_val = ImageDataGenerator(rescale = 1/255)\n",
    "\n",
    "train_gen = image_gen.flow_from_directory(train_base, \n",
    "                                                target_size = input_shape[:2], \n",
    "                                                batch_size = batch_size, \n",
    "                                                class_mode = \"binary\")\n",
    "\n",
    "test_gen = image_gen.flow_from_directory(val_base,\n",
    "                                                target_size = input_shape[:2], \n",
    "                                                batch_size = batch_size, \n",
    "                                                class_mode = \"binary\"\n",
    "                                                )\n",
    "\n",
    "## Create Validation data. \n",
    "\n",
    "val_data = image_gen_val.flow_from_directory(val_base, \n",
    "                                         target_size = input_shape[:2],\n",
    "                                         batch_size = batch_size, \n",
    "                                        class_mode = \"binary\"\n",
    " \n",
    ")"
   ]
  },
  {
   "cell_type": "code",
   "execution_count": null,
   "metadata": {},
   "outputs": [],
   "source": []
  },
  {
   "cell_type": "code",
   "execution_count": 11,
   "metadata": {},
   "outputs": [
    {
     "name": "stdout",
     "output_type": "stream",
     "text": [
      "WARNING:tensorflow:From /home/zeski/anaconda3/lib/python3.7/site-packages/tensorflow/python/framework/op_def_library.py:263: colocate_with (from tensorflow.python.framework.ops) is deprecated and will be removed in a future version.\n",
      "Instructions for updating:\n",
      "Colocations handled automatically by placer.\n",
      "WARNING:tensorflow:From /home/zeski/anaconda3/lib/python3.7/site-packages/keras/backend/tensorflow_backend.py:3445: calling dropout (from tensorflow.python.ops.nn_ops) with keep_prob is deprecated and will be removed in a future version.\n",
      "Instructions for updating:\n",
      "Please use `rate` instead of `keep_prob`. Rate should be set to `rate = 1 - keep_prob`.\n"
     ]
    }
   ],
   "source": [
    "## Building the model: \n",
    "\n",
    "model = Sequential()\n",
    "\n",
    "\n",
    "\n",
    "model.add(Conv2D(filters = 32, kernel_size = (5,5),input_shape = input_shape, activation = 'relu'))\n",
    "model.add(MaxPooling2D(pool_size = (2,2)))\n",
    "model.add(BatchNormalization())\n",
    "\n",
    "model.add(Conv2D(filters = 64, kernel_size = (3,3), activation = 'relu'))\n",
    "model.add(MaxPooling2D(pool_size = (2,2)))\n",
    "model.add(BatchNormalization())\n",
    "#model.add(Dropout(0.15))\n",
    "\n",
    "model.add(Conv2D(filters = 64, kernel_size = (3,3), activation = \"relu\"))\n",
    "model.add(MaxPooling2D(pool_size = (2,2)))\n",
    "model.add(BatchNormalization())\n",
    "\n",
    "model.add(Conv2D(filters = 96, kernel_size = (3,3), activation = \"relu\"))\n",
    "model.add(MaxPooling2D(pool_size = (2,2)))\n",
    "model.add(BatchNormalization())\n",
    "\n",
    "\n",
    "model.add(Flatten())\n",
    "\n",
    "\n",
    "model.add(Dense(512, activation = \"relu\"))\n",
    "## Dropout layer to help with overfitting\n",
    "model.add(Dropout(0.5))\n",
    "\n",
    "\n",
    "#model.add(Dense(96, activation = 'relu'))\n",
    "#model.add(Dropout(0.25))\n",
    "\n",
    "#model.add(Dense(32, activation = 'relu'))\n",
    "#model.add(Dropout(0.25))\n",
    "\n",
    "model.add(Dense(1, activation = 'sigmoid'))\n",
    "\n",
    "\n",
    "\n",
    "\n",
    "optimizer = optimizers.Adam(lr = 0.001)\n",
    "model.compile(loss = 'binary_crossentropy', \n",
    "              optimizer = optimizer, \n",
    "              metrics =  [metrics.binary_accuracy]\n",
    "             )"
   ]
  },
  {
   "cell_type": "code",
   "execution_count": 12,
   "metadata": {},
   "outputs": [
    {
     "name": "stdout",
     "output_type": "stream",
     "text": [
      "_________________________________________________________________\n",
      "Layer (type)                 Output Shape              Param #   \n",
      "=================================================================\n",
      "conv2d_1 (Conv2D)            (None, 252, 252, 32)      2432      \n",
      "_________________________________________________________________\n",
      "max_pooling2d_1 (MaxPooling2 (None, 126, 126, 32)      0         \n",
      "_________________________________________________________________\n",
      "batch_normalization_1 (Batch (None, 126, 126, 32)      128       \n",
      "_________________________________________________________________\n",
      "conv2d_2 (Conv2D)            (None, 124, 124, 64)      18496     \n",
      "_________________________________________________________________\n",
      "max_pooling2d_2 (MaxPooling2 (None, 62, 62, 64)        0         \n",
      "_________________________________________________________________\n",
      "batch_normalization_2 (Batch (None, 62, 62, 64)        256       \n",
      "_________________________________________________________________\n",
      "conv2d_3 (Conv2D)            (None, 60, 60, 64)        36928     \n",
      "_________________________________________________________________\n",
      "max_pooling2d_3 (MaxPooling2 (None, 30, 30, 64)        0         \n",
      "_________________________________________________________________\n",
      "batch_normalization_3 (Batch (None, 30, 30, 64)        256       \n",
      "_________________________________________________________________\n",
      "conv2d_4 (Conv2D)            (None, 28, 28, 96)        55392     \n",
      "_________________________________________________________________\n",
      "max_pooling2d_4 (MaxPooling2 (None, 14, 14, 96)        0         \n",
      "_________________________________________________________________\n",
      "flatten_1 (Flatten)          (None, 18816)             0         \n",
      "_________________________________________________________________\n",
      "dense_1 (Dense)              (None, 512)               9634304   \n",
      "_________________________________________________________________\n",
      "dropout_1 (Dropout)          (None, 512)               0         \n",
      "_________________________________________________________________\n",
      "dense_2 (Dense)              (None, 128)               65664     \n",
      "_________________________________________________________________\n",
      "dropout_2 (Dropout)          (None, 128)               0         \n",
      "_________________________________________________________________\n",
      "dense_3 (Dense)              (None, 1)                 129       \n",
      "=================================================================\n",
      "Total params: 9,813,985\n",
      "Trainable params: 9,813,665\n",
      "Non-trainable params: 320\n",
      "_________________________________________________________________\n"
     ]
    }
   ],
   "source": [
    "model.summary()"
   ]
  },
  {
   "cell_type": "code",
   "execution_count": null,
   "metadata": {},
   "outputs": [
    {
     "name": "stdout",
     "output_type": "stream",
     "text": [
      "WARNING:tensorflow:From /home/zeski/anaconda3/lib/python3.7/site-packages/tensorflow/python/ops/math_ops.py:3066: to_int32 (from tensorflow.python.ops.math_ops) is deprecated and will be removed in a future version.\n",
      "Instructions for updating:\n",
      "Use tf.cast instead.\n",
      "Epoch 1/10\n",
      "149/149 [==============================] - 737s 5s/step - loss: 7.9667 - binary_accuracy: 0.4966 - val_loss: 8.0613 - val_binary_accuracy: 0.4943\n",
      "Epoch 2/10\n",
      "149/149 [==============================] - 610s 4s/step - loss: 8.0643 - binary_accuracy: 0.4942 - val_loss: 8.2252 - val_binary_accuracy: 0.4841\n",
      "Epoch 3/10\n",
      "149/149 [==============================] - 568s 4s/step - loss: 8.0732 - binary_accuracy: 0.4936 - val_loss: 8.2252 - val_binary_accuracy: 0.4841\n",
      "Epoch 4/10\n",
      "113/149 [=====================>........] - ETA: 1:57 - loss: 7.9977 - binary_accuracy: 0.4983"
     ]
    }
   ],
   "source": [
    "train_model(model, epochs = 10, train_generator = train_gen, batch_size = batch_size, validation_generator= val_data, validation_steps = 50)"
   ]
  },
  {
   "cell_type": "code",
   "execution_count": null,
   "metadata": {},
   "outputs": [],
   "source": [
    "model.save(\"Binary_Model_Gray1.h5\")\n",
    "conf_matrix(model, \"binary\", val_data)"
   ]
  },
  {
   "cell_type": "code",
   "execution_count": null,
   "metadata": {},
   "outputs": [],
   "source": [
    "# Training New Model types: "
   ]
  },
  {
   "cell_type": "markdown",
   "metadata": {},
   "source": [
    "epoch = list(map(lambda x: str(x + 1), list(range(len(results_1.history['loss'])) )))\n",
    "fig = plt.figure(figsize = (15,15))\n",
    "ax1 = plt.subplot(211)\n",
    "ax2 = plt.subplot(212)\n",
    "ax1.plot(epoch, results_1.history['binary_accuracy'], label = \"Training Accuracy\", color = 'green')\n",
    "ax1.plot(epoch, results_1.history['val_binary_accuracy'], label = 'Validation Accuracy', color = 'blue')\n",
    "ax1.set_title(\"Comaprison of Training Accuracy\\n to Validation Accuracy with Display of Loss\")\n",
    "ax1.legend()\n",
    "ax1.set_xticklabels([])\n",
    "ax1.set_ylabel(\"Accuracy\")\n",
    "ax2.plot(epoch, results_1.history['loss'], label = 'Training Loss', color = \"green\")\n",
    "ax2.plot(epoch, results_1.history['val_loss'], label = 'Validation Loss')\n",
    "ax2.set_ylabel(\"Loss Value\")\n",
    "ax2.set_xlabel(\"Epoch\")\n",
    "ax2.set_xticklabels([])\n",
    "ax2.legend()\n",
    "\n",
    "plt.savefig(\"Binary_Model1.png\")\n",
    "plt.show()\n"
   ]
  },
  {
   "cell_type": "markdown",
   "metadata": {},
   "source": [
    "# Training Binary Model 1"
   ]
  },
  {
   "cell_type": "code",
   "execution_count": 10,
   "metadata": {},
   "outputs": [],
   "source": [
    "from keras.models import load_model\n",
    "model1 = load_model(\"Binary_Model1.h5\")\n",
    "\n",
    "\n"
   ]
  },
  {
   "cell_type": "code",
   "execution_count": 19,
   "metadata": {},
   "outputs": [
    {
     "name": "stdout",
     "output_type": "stream",
     "text": [
      "Epoch 1/25\n",
      "149/149 [==============================] - 436s 3s/step - loss: 0.1042 - binary_accuracy: 0.9738 - val_loss: 0.0675 - val_binary_accuracy: 0.9807\n",
      "Epoch 2/25\n",
      "149/149 [==============================] - 429s 3s/step - loss: 0.1272 - binary_accuracy: 0.9607 - val_loss: 0.3012 - val_binary_accuracy: 0.8682\n",
      "Epoch 3/25\n",
      "149/149 [==============================] - 437s 3s/step - loss: 0.1026 - binary_accuracy: 0.9681 - val_loss: 0.1477 - val_binary_accuracy: 0.9646\n",
      "Epoch 4/25\n",
      "149/149 [==============================] - 440s 3s/step - loss: 0.1172 - binary_accuracy: 0.9634 - val_loss: 0.0872 - val_binary_accuracy: 0.9711\n",
      "Epoch 5/25\n",
      "149/149 [==============================] - 434s 3s/step - loss: 0.1018 - binary_accuracy: 0.9677 - val_loss: 0.0572 - val_binary_accuracy: 0.9904\n",
      "Epoch 6/25\n",
      "149/149 [==============================] - 436s 3s/step - loss: 0.1133 - binary_accuracy: 0.9694 - val_loss: 0.1793 - val_binary_accuracy: 0.9453\n",
      "Epoch 7/25\n",
      "149/149 [==============================] - 445s 3s/step - loss: 0.1117 - binary_accuracy: 0.9658 - val_loss: 0.0511 - val_binary_accuracy: 0.9871\n",
      "Epoch 8/25\n",
      "149/149 [==============================] - 435s 3s/step - loss: 0.0941 - binary_accuracy: 0.9685 - val_loss: 0.1287 - val_binary_accuracy: 0.9775\n",
      "Epoch 9/25\n",
      "149/149 [==============================] - 433s 3s/step - loss: 0.1178 - binary_accuracy: 0.9684 - val_loss: 0.0605 - val_binary_accuracy: 0.9807\n",
      "Epoch 10/25\n",
      "149/149 [==============================] - 423s 3s/step - loss: 0.0994 - binary_accuracy: 0.9697 - val_loss: 0.1196 - val_binary_accuracy: 0.9678\n",
      "Epoch 11/25\n",
      "149/149 [==============================] - 427s 3s/step - loss: 0.0935 - binary_accuracy: 0.9701 - val_loss: 0.1010 - val_binary_accuracy: 0.9775\n",
      "Epoch 12/25\n",
      "149/149 [==============================] - 422s 3s/step - loss: 0.1025 - binary_accuracy: 0.9654 - val_loss: 0.1466 - val_binary_accuracy: 0.9678\n",
      "Epoch 13/25\n",
      "149/149 [==============================] - 426s 3s/step - loss: 0.1190 - binary_accuracy: 0.9654 - val_loss: 0.0785 - val_binary_accuracy: 0.9807\n",
      "Epoch 14/25\n",
      "149/149 [==============================] - 428s 3s/step - loss: 0.0920 - binary_accuracy: 0.9698 - val_loss: 0.0773 - val_binary_accuracy: 0.9743\n",
      "Epoch 15/25\n",
      "149/149 [==============================] - 429s 3s/step - loss: 0.0928 - binary_accuracy: 0.9678 - val_loss: 0.1796 - val_binary_accuracy: 0.9711\n",
      "Epoch 16/25\n",
      "149/149 [==============================] - 426s 3s/step - loss: 0.1113 - binary_accuracy: 0.9671 - val_loss: 0.1246 - val_binary_accuracy: 0.9743\n",
      "Epoch 17/25\n",
      "149/149 [==============================] - 428s 3s/step - loss: 0.0914 - binary_accuracy: 0.9731 - val_loss: 0.1316 - val_binary_accuracy: 0.9614\n",
      "Epoch 18/25\n",
      "149/149 [==============================] - 450s 3s/step - loss: 0.0967 - binary_accuracy: 0.9704 - val_loss: 0.0330 - val_binary_accuracy: 0.9871\n",
      "Epoch 19/25\n",
      "149/149 [==============================] - 449s 3s/step - loss: 0.1004 - binary_accuracy: 0.9691 - val_loss: 0.1295 - val_binary_accuracy: 0.9678\n",
      "Epoch 20/25\n",
      "149/149 [==============================] - 440s 3s/step - loss: 0.1266 - binary_accuracy: 0.9620 - val_loss: 0.1024 - val_binary_accuracy: 0.9775\n",
      "Epoch 21/25\n",
      "149/149 [==============================] - 445s 3s/step - loss: 0.1109 - binary_accuracy: 0.9674 - val_loss: 0.0846 - val_binary_accuracy: 0.9775\n",
      "Epoch 22/25\n",
      "149/149 [==============================] - 439s 3s/step - loss: 0.1075 - binary_accuracy: 0.9668 - val_loss: 0.0916 - val_binary_accuracy: 0.9775\n",
      "Epoch 23/25\n",
      "149/149 [==============================] - 429s 3s/step - loss: 0.0928 - binary_accuracy: 0.9718 - val_loss: 0.0647 - val_binary_accuracy: 0.9839\n",
      "Epoch 24/25\n",
      "149/149 [==============================] - 445s 3s/step - loss: 0.0948 - binary_accuracy: 0.9745 - val_loss: 0.0951 - val_binary_accuracy: 0.9775\n",
      "Epoch 25/25\n",
      "149/149 [==============================] - 427s 3s/step - loss: 0.0925 - binary_accuracy: 0.9711 - val_loss: 0.1162 - val_binary_accuracy: 0.9743\n"
     ]
    }
   ],
   "source": [
    "result1_m1 = train_model(model1, epochs = 25, train_generator = train_gen, batch_size = batch_size, validation_generator= val_data, validation_steps = np.ceil(val_data.samples / batch_size))"
   ]
  },
  {
   "cell_type": "code",
   "execution_count": 20,
   "metadata": {},
   "outputs": [
    {
     "data": {
      "text/html": [
       "<div>\n",
       "<style scoped>\n",
       "    .dataframe tbody tr th:only-of-type {\n",
       "        vertical-align: middle;\n",
       "    }\n",
       "\n",
       "    .dataframe tbody tr th {\n",
       "        vertical-align: top;\n",
       "    }\n",
       "\n",
       "    .dataframe thead th {\n",
       "        text-align: right;\n",
       "    }\n",
       "</style>\n",
       "<table border=\"1\" class=\"dataframe\">\n",
       "  <thead>\n",
       "    <tr style=\"text-align: right;\">\n",
       "      <th></th>\n",
       "      <th>Diabetic_Retinopathy</th>\n",
       "      <th>No_Diabetic_Retinopathy</th>\n",
       "    </tr>\n",
       "  </thead>\n",
       "  <tbody>\n",
       "    <tr>\n",
       "      <th>0</th>\n",
       "      <td>77</td>\n",
       "      <td>82</td>\n",
       "    </tr>\n",
       "    <tr>\n",
       "      <th>1</th>\n",
       "      <td>74</td>\n",
       "      <td>78</td>\n",
       "    </tr>\n",
       "  </tbody>\n",
       "</table>\n",
       "</div>"
      ],
      "text/plain": [
       "   Diabetic_Retinopathy  No_Diabetic_Retinopathy\n",
       "0                    77                       82\n",
       "1                    74                       78"
      ]
     },
     "execution_count": 20,
     "metadata": {},
     "output_type": "execute_result"
    }
   ],
   "source": [
    "model1.save(\"Binary_Model1.h5\")\n",
    "conf_matrix(model1, \"binary\", val_data)"
   ]
  },
  {
   "cell_type": "code",
   "execution_count": 11,
   "metadata": {},
   "outputs": [
    {
     "name": "stdout",
     "output_type": "stream",
     "text": [
      "_________________________________________________________________\n",
      "Layer (type)                 Output Shape              Param #   \n",
      "=================================================================\n",
      "conv2d_1 (Conv2D)            (None, 252, 252, 32)      2432      \n",
      "_________________________________________________________________\n",
      "max_pooling2d_1 (MaxPooling2 (None, 126, 126, 32)      0         \n",
      "_________________________________________________________________\n",
      "conv2d_2 (Conv2D)            (None, 124, 124, 64)      18496     \n",
      "_________________________________________________________________\n",
      "max_pooling2d_2 (MaxPooling2 (None, 62, 62, 64)        0         \n",
      "_________________________________________________________________\n",
      "batch_normalization_1 (Batch (None, 62, 62, 64)        256       \n",
      "_________________________________________________________________\n",
      "conv2d_3 (Conv2D)            (None, 60, 60, 64)        36928     \n",
      "_________________________________________________________________\n",
      "max_pooling2d_3 (MaxPooling2 (None, 30, 30, 64)        0         \n",
      "_________________________________________________________________\n",
      "conv2d_4 (Conv2D)            (None, 28, 28, 96)        55392     \n",
      "_________________________________________________________________\n",
      "max_pooling2d_4 (MaxPooling2 (None, 14, 14, 96)        0         \n",
      "_________________________________________________________________\n",
      "flatten_1 (Flatten)          (None, 18816)             0         \n",
      "_________________________________________________________________\n",
      "dense_1 (Dense)              (None, 512)               9634304   \n",
      "_________________________________________________________________\n",
      "dropout_1 (Dropout)          (None, 512)               0         \n",
      "_________________________________________________________________\n",
      "dense_2 (Dense)              (None, 1)                 513       \n",
      "=================================================================\n",
      "Total params: 9,748,321\n",
      "Trainable params: 9,748,193\n",
      "Non-trainable params: 128\n",
      "_________________________________________________________________\n"
     ]
    }
   ],
   "source": [
    "model1.summary()"
   ]
  },
  {
   "cell_type": "markdown",
   "metadata": {},
   "source": [
    "# Training Model 2"
   ]
  },
  {
   "cell_type": "code",
   "execution_count": 13,
   "metadata": {},
   "outputs": [
    {
     "name": "stdout",
     "output_type": "stream",
     "text": [
      "_________________________________________________________________\n",
      "Layer (type)                 Output Shape              Param #   \n",
      "=================================================================\n",
      "conv2d_1 (Conv2D)            (None, 252, 252, 32)      2432      \n",
      "_________________________________________________________________\n",
      "max_pooling2d_1 (MaxPooling2 (None, 126, 126, 32)      0         \n",
      "_________________________________________________________________\n",
      "batch_normalization_1 (Batch (None, 126, 126, 32)      128       \n",
      "_________________________________________________________________\n",
      "conv2d_2 (Conv2D)            (None, 124, 124, 64)      18496     \n",
      "_________________________________________________________________\n",
      "max_pooling2d_2 (MaxPooling2 (None, 62, 62, 64)        0         \n",
      "_________________________________________________________________\n",
      "batch_normalization_2 (Batch (None, 62, 62, 64)        256       \n",
      "_________________________________________________________________\n",
      "conv2d_3 (Conv2D)            (None, 60, 60, 64)        36928     \n",
      "_________________________________________________________________\n",
      "max_pooling2d_3 (MaxPooling2 (None, 30, 30, 64)        0         \n",
      "_________________________________________________________________\n",
      "batch_normalization_3 (Batch (None, 30, 30, 64)        256       \n",
      "_________________________________________________________________\n",
      "conv2d_4 (Conv2D)            (None, 28, 28, 96)        55392     \n",
      "_________________________________________________________________\n",
      "max_pooling2d_4 (MaxPooling2 (None, 14, 14, 96)        0         \n",
      "_________________________________________________________________\n",
      "batch_normalization_4 (Batch (None, 14, 14, 96)        384       \n",
      "_________________________________________________________________\n",
      "flatten_1 (Flatten)          (None, 18816)             0         \n",
      "_________________________________________________________________\n",
      "dense_1 (Dense)              (None, 512)               9634304   \n",
      "_________________________________________________________________\n",
      "dropout_1 (Dropout)          (None, 512)               0         \n",
      "_________________________________________________________________\n",
      "dense_2 (Dense)              (None, 1)                 513       \n",
      "=================================================================\n",
      "Total params: 9,749,089\n",
      "Trainable params: 9,748,577\n",
      "Non-trainable params: 512\n",
      "_________________________________________________________________\n"
     ]
    }
   ],
   "source": [
    "from keras.models import load_model\n",
    "model2 = load_model(\"Binary_Model2.h5\")\n",
    "model2.summary()"
   ]
  },
  {
   "cell_type": "code",
   "execution_count": 16,
   "metadata": {},
   "outputs": [
    {
     "name": "stdout",
     "output_type": "stream",
     "text": [
      "Epoch 1/100\n",
      "149/149 [==============================] - 531s 4s/step - loss: 1.4643 - binary_accuracy: 0.9084 - val_loss: 0.9964 - val_binary_accuracy: 0.9357\n",
      "Epoch 2/100\n",
      "149/149 [==============================] - 521s 3s/step - loss: 1.7788 - binary_accuracy: 0.8879 - val_loss: 1.2416 - val_binary_accuracy: 0.9228\n",
      "Epoch 3/100\n",
      "149/149 [==============================] - 519s 3s/step - loss: 2.2261 - binary_accuracy: 0.8612 - val_loss: 1.4483 - val_binary_accuracy: 0.9100\n",
      "Epoch 4/100\n",
      "149/149 [==============================] - 514s 3s/step - loss: 1.9256 - binary_accuracy: 0.8791 - val_loss: 1.2940 - val_binary_accuracy: 0.9196\n",
      "Epoch 5/100\n",
      "149/149 [==============================] - 510s 3s/step - loss: 2.8907 - binary_accuracy: 0.8189 - val_loss: 3.9264 - val_binary_accuracy: 0.7492\n",
      "Epoch 6/100\n",
      "149/149 [==============================] - 511s 3s/step - loss: 2.1668 - binary_accuracy: 0.8640 - val_loss: 1.6520 - val_binary_accuracy: 0.8907\n",
      "Epoch 7/100\n",
      "149/149 [==============================] - 525s 4s/step - loss: 1.7309 - binary_accuracy: 0.8922 - val_loss: 1.3452 - val_binary_accuracy: 0.9164\n",
      "Epoch 8/100\n",
      "149/149 [==============================] - 515s 3s/step - loss: 1.5592 - binary_accuracy: 0.9020 - val_loss: 1.3464 - val_binary_accuracy: 0.9164\n",
      "Epoch 9/100\n",
      "149/149 [==============================] - 504s 3s/step - loss: 1.7378 - binary_accuracy: 0.8914 - val_loss: 1.2416 - val_binary_accuracy: 0.9228\n",
      "Epoch 10/100\n",
      "149/149 [==============================] - 502s 3s/step - loss: 1.7695 - binary_accuracy: 0.8898 - val_loss: 1.2940 - val_binary_accuracy: 0.9196\n",
      "Epoch 11/100\n",
      "149/149 [==============================] - 496s 3s/step - loss: 1.8257 - binary_accuracy: 0.8859 - val_loss: 1.2940 - val_binary_accuracy: 0.9196\n",
      "Epoch 12/100\n",
      "149/149 [==============================] - 510s 3s/step - loss: 1.7154 - binary_accuracy: 0.8929 - val_loss: 1.5007 - val_binary_accuracy: 0.9068\n",
      "Epoch 13/100\n",
      "149/149 [==============================] - 502s 3s/step - loss: 1.6129 - binary_accuracy: 0.8997 - val_loss: 1.1909 - val_binary_accuracy: 0.9260\n",
      "Epoch 14/100\n",
      "149/149 [==============================] - 503s 3s/step - loss: 1.6354 - binary_accuracy: 0.8983 - val_loss: 1.1903 - val_binary_accuracy: 0.9260\n",
      "Epoch 15/100\n",
      "149/149 [==============================] - 502s 3s/step - loss: 1.9188 - binary_accuracy: 0.8794 - val_loss: 1.5001 - val_binary_accuracy: 0.9068\n",
      "Epoch 16/100\n",
      "149/149 [==============================] - 499s 3s/step - loss: 1.6479 - binary_accuracy: 0.8970 - val_loss: 1.2421 - val_binary_accuracy: 0.9228\n",
      "Epoch 17/100\n",
      "149/149 [==============================] - 503s 3s/step - loss: 1.6578 - binary_accuracy: 0.8966 - val_loss: 1.3458 - val_binary_accuracy: 0.9164\n",
      "Epoch 18/100\n",
      "149/149 [==============================] - 504s 3s/step - loss: 1.6732 - binary_accuracy: 0.8959 - val_loss: 1.2934 - val_binary_accuracy: 0.9196\n",
      "Epoch 19/100\n",
      "149/149 [==============================] - 509s 3s/step - loss: 1.7608 - binary_accuracy: 0.8895 - val_loss: 1.2427 - val_binary_accuracy: 0.9228\n",
      "Epoch 20/100\n",
      "149/149 [==============================] - 512s 3s/step - loss: 1.6900 - binary_accuracy: 0.8943 - val_loss: 1.2421 - val_binary_accuracy: 0.9228\n",
      "Epoch 21/100\n",
      "149/149 [==============================] - 506s 3s/step - loss: 1.5913 - binary_accuracy: 0.9010 - val_loss: 1.3976 - val_binary_accuracy: 0.9132\n",
      "Epoch 22/100\n",
      "149/149 [==============================] - 511s 3s/step - loss: 1.5984 - binary_accuracy: 0.9004 - val_loss: 1.2421 - val_binary_accuracy: 0.9228\n",
      "Epoch 23/100\n",
      "149/149 [==============================] - 510s 3s/step - loss: 1.5805 - binary_accuracy: 0.9017 - val_loss: 1.4495 - val_binary_accuracy: 0.9100\n",
      "Epoch 24/100\n",
      "149/149 [==============================] - 500s 3s/step - loss: 1.5660 - binary_accuracy: 0.9026 - val_loss: 1.1898 - val_binary_accuracy: 0.9260\n",
      "Epoch 25/100\n",
      "149/149 [==============================] - 505s 3s/step - loss: 1.5854 - binary_accuracy: 0.9014 - val_loss: 1.2427 - val_binary_accuracy: 0.9228\n",
      "Epoch 26/100\n",
      "149/149 [==============================] - 505s 3s/step - loss: 1.5514 - binary_accuracy: 0.9035 - val_loss: 1.3458 - val_binary_accuracy: 0.9164\n",
      "Epoch 27/100\n",
      "149/149 [==============================] - 510s 3s/step - loss: 1.5986 - binary_accuracy: 0.9006 - val_loss: 1.2421 - val_binary_accuracy: 0.9228\n",
      "Epoch 28/100\n",
      "149/149 [==============================] - 510s 3s/step - loss: 1.6483 - binary_accuracy: 0.8975 - val_loss: 1.2934 - val_binary_accuracy: 0.9196\n",
      "Epoch 29/100\n",
      "149/149 [==============================] - 502s 3s/step - loss: 1.5845 - binary_accuracy: 0.9014 - val_loss: 1.2945 - val_binary_accuracy: 0.9196\n",
      "Epoch 30/100\n",
      "149/149 [==============================] - 505s 3s/step - loss: 2.5647 - binary_accuracy: 0.8390 - val_loss: 1.8579 - val_binary_accuracy: 0.8842\n",
      "Epoch 31/100\n",
      "149/149 [==============================] - 498s 3s/step - loss: 3.5198 - binary_accuracy: 0.7809 - val_loss: 4.0486 - val_binary_accuracy: 0.7428\n",
      "Epoch 32/100\n",
      "149/149 [==============================] - 506s 3s/step - loss: 2.9585 - binary_accuracy: 0.8156 - val_loss: 6.7143 - val_binary_accuracy: 0.5820\n",
      "Epoch 33/100\n",
      "149/149 [==============================] - 502s 3s/step - loss: 6.9420 - binary_accuracy: 0.5680 - val_loss: 8.1741 - val_binary_accuracy: 0.4920\n",
      "Epoch 34/100\n",
      "149/149 [==============================] - 518s 3s/step - loss: 6.4287 - binary_accuracy: 0.5988 - val_loss: 7.2388 - val_binary_accuracy: 0.5498\n",
      "Epoch 35/100\n",
      "149/149 [==============================] - 509s 3s/step - loss: 5.6457 - binary_accuracy: 0.6474 - val_loss: 6.7345 - val_binary_accuracy: 0.5788\n",
      "Epoch 36/100\n",
      "149/149 [==============================] - 509s 3s/step - loss: 6.3319 - binary_accuracy: 0.6045 - val_loss: 6.0324 - val_binary_accuracy: 0.6206\n",
      "Epoch 37/100\n",
      "149/149 [==============================] - 506s 3s/step - loss: 6.2168 - binary_accuracy: 0.6103 - val_loss: 4.5405 - val_binary_accuracy: 0.7138\n",
      "Epoch 38/100\n",
      "149/149 [==============================] - 504s 3s/step - loss: 5.3580 - binary_accuracy: 0.6652 - val_loss: 4.5789 - val_binary_accuracy: 0.7138\n",
      "Epoch 39/100\n",
      "149/149 [==============================] - 505s 3s/step - loss: 4.8543 - binary_accuracy: 0.6960 - val_loss: 2.6876 - val_binary_accuracy: 0.8296\n",
      "Epoch 40/100\n",
      "149/149 [==============================] - 522s 4s/step - loss: 3.3098 - binary_accuracy: 0.7923 - val_loss: 5.8496 - val_binary_accuracy: 0.6334\n",
      "Epoch 41/100\n",
      "149/149 [==============================] - 516s 3s/step - loss: 3.8959 - binary_accuracy: 0.7562 - val_loss: 1.6662 - val_binary_accuracy: 0.8907\n",
      "Epoch 42/100\n",
      "149/149 [==============================] - 508s 3s/step - loss: 2.8749 - binary_accuracy: 0.8196 - val_loss: 4.7405 - val_binary_accuracy: 0.7042\n",
      "Epoch 43/100\n",
      "149/149 [==============================] - 505s 3s/step - loss: 3.9031 - binary_accuracy: 0.7551 - val_loss: 4.1784 - val_binary_accuracy: 0.7395\n",
      "Epoch 44/100\n",
      "149/149 [==============================] - 505s 3s/step - loss: 2.5044 - binary_accuracy: 0.8429 - val_loss: 1.8066 - val_binary_accuracy: 0.8875\n",
      "Epoch 45/100\n",
      "149/149 [==============================] - 506s 3s/step - loss: 1.8532 - binary_accuracy: 0.8846 - val_loss: 1.2940 - val_binary_accuracy: 0.9196\n",
      "Epoch 46/100\n",
      "149/149 [==============================] - 505s 3s/step - loss: 1.7948 - binary_accuracy: 0.8873 - val_loss: 1.2928 - val_binary_accuracy: 0.9196\n",
      "Epoch 47/100\n",
      "149/149 [==============================] - 504s 3s/step - loss: 1.5963 - binary_accuracy: 0.9002 - val_loss: 0.9751 - val_binary_accuracy: 0.9389\n",
      "Epoch 48/100\n",
      "149/149 [==============================] - 503s 3s/step - loss: 2.1704 - binary_accuracy: 0.8643 - val_loss: 1.8562 - val_binary_accuracy: 0.8842\n",
      "Epoch 49/100\n",
      "149/149 [==============================] - 523s 4s/step - loss: 1.9619 - binary_accuracy: 0.8775 - val_loss: 1.2416 - val_binary_accuracy: 0.9228\n",
      "Epoch 50/100\n",
      "149/149 [==============================] - 511s 3s/step - loss: 1.6620 - binary_accuracy: 0.8959 - val_loss: 1.2421 - val_binary_accuracy: 0.9228\n",
      "Epoch 51/100\n",
      "149/149 [==============================] - 507s 3s/step - loss: 1.8194 - binary_accuracy: 0.8868 - val_loss: 1.2940 - val_binary_accuracy: 0.9196\n",
      "Epoch 52/100\n",
      "149/149 [==============================] - 502s 3s/step - loss: 1.6744 - binary_accuracy: 0.8959 - val_loss: 1.3458 - val_binary_accuracy: 0.9164\n",
      "Epoch 53/100\n",
      "149/149 [==============================] - 503s 3s/step - loss: 1.7806 - binary_accuracy: 0.8892 - val_loss: 1.3458 - val_binary_accuracy: 0.9164\n",
      "Epoch 54/100\n",
      "149/149 [==============================] - 509s 3s/step - loss: 1.6734 - binary_accuracy: 0.8959 - val_loss: 1.5013 - val_binary_accuracy: 0.9068\n",
      "Epoch 55/100\n",
      "149/149 [==============================] - 550s 4s/step - loss: 1.7754 - binary_accuracy: 0.8896 - val_loss: 1.2940 - val_binary_accuracy: 0.9196\n",
      "Epoch 56/100\n",
      "149/149 [==============================] - 529s 4s/step - loss: 1.7321 - binary_accuracy: 0.8923 - val_loss: 1.1903 - val_binary_accuracy: 0.9260\n",
      "Epoch 57/100\n",
      "149/149 [==============================] - 520s 3s/step - loss: 1.8206 - binary_accuracy: 0.8858 - val_loss: 2.7293 - val_binary_accuracy: 0.8296\n",
      "Epoch 58/100\n",
      "149/149 [==============================] - 516s 3s/step - loss: 1.7429 - binary_accuracy: 0.8914 - val_loss: 2.3710 - val_binary_accuracy: 0.8521\n",
      "Epoch 59/100\n",
      "149/149 [==============================] - 521s 3s/step - loss: 1.9694 - binary_accuracy: 0.8773 - val_loss: 1.2421 - val_binary_accuracy: 0.9228\n",
      "Epoch 60/100\n",
      "149/149 [==============================] - 506s 3s/step - loss: 5.8486 - binary_accuracy: 0.6362 - val_loss: 5.7893 - val_binary_accuracy: 0.6399\n",
      "Epoch 61/100\n",
      "149/149 [==============================] - 503s 3s/step - loss: 5.1375 - binary_accuracy: 0.6802 - val_loss: 2.3186 - val_binary_accuracy: 0.8553\n",
      "Epoch 62/100\n",
      "149/149 [==============================] - 503s 3s/step - loss: 2.2524 - binary_accuracy: 0.8593 - val_loss: 1.3458 - val_binary_accuracy: 0.9164\n",
      "Epoch 63/100\n",
      "149/149 [==============================] - 499s 3s/step - loss: 1.6823 - binary_accuracy: 0.8952 - val_loss: 3.9882 - val_binary_accuracy: 0.7492\n",
      "Epoch 64/100\n",
      "149/149 [==============================] - 507s 3s/step - loss: 1.7842 - binary_accuracy: 0.8890 - val_loss: 1.3452 - val_binary_accuracy: 0.9164\n",
      "Epoch 65/100\n",
      "149/149 [==============================] - 496s 3s/step - loss: 1.6836 - binary_accuracy: 0.8953 - val_loss: 1.3464 - val_binary_accuracy: 0.9164\n",
      "Epoch 66/100\n",
      "149/149 [==============================] - 509s 3s/step - loss: 1.7774 - binary_accuracy: 0.8895 - val_loss: 1.2940 - val_binary_accuracy: 0.9196\n",
      "Epoch 67/100\n",
      "149/149 [==============================] - 501s 3s/step - loss: 1.7854 - binary_accuracy: 0.8890 - val_loss: 1.2940 - val_binary_accuracy: 0.9196\n",
      "Epoch 68/100\n",
      "149/149 [==============================] - 503s 3s/step - loss: 1.6954 - binary_accuracy: 0.8946 - val_loss: 1.2940 - val_binary_accuracy: 0.9196\n",
      "Epoch 69/100\n",
      "149/149 [==============================] - 500s 3s/step - loss: 1.7690 - binary_accuracy: 0.8896 - val_loss: 1.2421 - val_binary_accuracy: 0.9228\n",
      "Epoch 70/100\n",
      "149/149 [==============================] - 504s 3s/step - loss: 1.6772 - binary_accuracy: 0.8952 - val_loss: 1.6534 - val_binary_accuracy: 0.8971\n",
      "Epoch 71/100\n",
      "149/149 [==============================] - 515s 3s/step - loss: 1.7624 - binary_accuracy: 0.8902 - val_loss: 1.1396 - val_binary_accuracy: 0.9293\n",
      "Epoch 72/100\n",
      "149/149 [==============================] - 503s 3s/step - loss: 1.5830 - binary_accuracy: 0.9015 - val_loss: 1.2421 - val_binary_accuracy: 0.9228\n",
      "Epoch 73/100\n",
      "149/149 [==============================] - 505s 3s/step - loss: 1.6661 - binary_accuracy: 0.8963 - val_loss: 1.3458 - val_binary_accuracy: 0.9164\n",
      "Epoch 74/100\n",
      "149/149 [==============================] - 508s 3s/step - loss: 1.6704 - binary_accuracy: 0.8961 - val_loss: 1.2940 - val_binary_accuracy: 0.9196\n",
      "Epoch 75/100\n",
      "149/149 [==============================] - 499s 3s/step - loss: 1.5872 - binary_accuracy: 0.9010 - val_loss: 1.4495 - val_binary_accuracy: 0.9100\n",
      "Epoch 76/100\n",
      "149/149 [==============================] - 506s 3s/step - loss: 1.6201 - binary_accuracy: 0.8992 - val_loss: 1.0867 - val_binary_accuracy: 0.9325\n",
      "Epoch 77/100\n",
      "149/149 [==============================] - 498s 3s/step - loss: 1.6000 - binary_accuracy: 0.9005 - val_loss: 1.2940 - val_binary_accuracy: 0.9196\n",
      "Epoch 78/100\n",
      "149/149 [==============================] - 512s 3s/step - loss: 1.5386 - binary_accuracy: 0.9043 - val_loss: 1.2940 - val_binary_accuracy: 0.9196\n",
      "Epoch 79/100\n",
      "149/149 [==============================] - 502s 3s/step - loss: 1.6096 - binary_accuracy: 0.8999 - val_loss: 1.3458 - val_binary_accuracy: 0.9164\n",
      "Epoch 80/100\n",
      "149/149 [==============================] - 505s 3s/step - loss: 3.3365 - binary_accuracy: 0.7920 - val_loss: 6.6253 - val_binary_accuracy: 0.5884\n",
      "Epoch 81/100\n",
      "149/149 [==============================] - 503s 3s/step - loss: 4.4376 - binary_accuracy: 0.7230 - val_loss: 4.6559 - val_binary_accuracy: 0.7106\n",
      "Epoch 82/100\n",
      "149/149 [==============================] - 501s 3s/step - loss: 3.9259 - binary_accuracy: 0.7557 - val_loss: 4.8638 - val_binary_accuracy: 0.6977\n",
      "Epoch 83/100\n",
      "149/149 [==============================] - 499s 3s/step - loss: 4.0350 - binary_accuracy: 0.7488 - val_loss: 4.1907 - val_binary_accuracy: 0.7395\n",
      "Epoch 84/100\n",
      "149/149 [==============================] - 500s 3s/step - loss: 3.8607 - binary_accuracy: 0.7597 - val_loss: 1.2354 - val_binary_accuracy: 0.9228\n",
      "Epoch 85/100\n",
      "149/149 [==============================] - 511s 3s/step - loss: 2.1876 - binary_accuracy: 0.8637 - val_loss: 1.2376 - val_binary_accuracy: 0.9228\n",
      "Epoch 86/100\n",
      "149/149 [==============================] - 508s 3s/step - loss: 1.6984 - binary_accuracy: 0.8942 - val_loss: 1.3954 - val_binary_accuracy: 0.9132\n",
      "Epoch 87/100\n",
      "149/149 [==============================] - 498s 3s/step - loss: 1.6745 - binary_accuracy: 0.8958 - val_loss: 1.1892 - val_binary_accuracy: 0.9260\n",
      "Epoch 88/100\n",
      "149/149 [==============================] - 503s 3s/step - loss: 1.6382 - binary_accuracy: 0.8975 - val_loss: 2.2589 - val_binary_accuracy: 0.8585\n",
      "Epoch 89/100\n",
      "149/149 [==============================] - 501s 3s/step - loss: 1.8630 - binary_accuracy: 0.8833 - val_loss: 0.7734 - val_binary_accuracy: 0.9518\n",
      "Epoch 90/100\n",
      "149/149 [==============================] - 503s 3s/step - loss: 1.5865 - binary_accuracy: 0.9009 - val_loss: 1.2940 - val_binary_accuracy: 0.9196\n",
      "Epoch 91/100\n",
      "149/149 [==============================] - 508s 3s/step - loss: 1.6781 - binary_accuracy: 0.8956 - val_loss: 1.5013 - val_binary_accuracy: 0.9068\n",
      "Epoch 92/100\n",
      "149/149 [==============================] - 505s 3s/step - loss: 1.6180 - binary_accuracy: 0.8993 - val_loss: 1.0861 - val_binary_accuracy: 0.9325\n",
      "Epoch 93/100\n",
      "149/149 [==============================] - 528s 4s/step - loss: 1.7015 - binary_accuracy: 0.8938 - val_loss: 2.6797 - val_binary_accuracy: 0.8328\n",
      "Epoch 94/100\n",
      "149/149 [==============================] - 504s 3s/step - loss: 1.7924 - binary_accuracy: 0.8882 - val_loss: 1.2421 - val_binary_accuracy: 0.9228\n",
      "Epoch 95/100\n",
      "149/149 [==============================] - 503s 3s/step - loss: 1.7670 - binary_accuracy: 0.8901 - val_loss: 1.2940 - val_binary_accuracy: 0.9196\n",
      "Epoch 96/100\n",
      "149/149 [==============================] - 506s 3s/step - loss: 1.8294 - binary_accuracy: 0.8862 - val_loss: 6.3736 - val_binary_accuracy: 0.6045\n",
      "Epoch 97/100\n",
      "149/149 [==============================] - 503s 3s/step - loss: 1.8706 - binary_accuracy: 0.8834 - val_loss: 1.3458 - val_binary_accuracy: 0.9164\n",
      "Epoch 98/100\n",
      "149/149 [==============================] - 504s 3s/step - loss: 1.6840 - binary_accuracy: 0.8950 - val_loss: 1.2421 - val_binary_accuracy: 0.9228\n",
      "Epoch 99/100\n",
      "149/149 [==============================] - 506s 3s/step - loss: 1.7377 - binary_accuracy: 0.8919 - val_loss: 1.2421 - val_binary_accuracy: 0.9228\n",
      "Epoch 100/100\n",
      "149/149 [==============================] - 504s 3s/step - loss: 1.6728 - binary_accuracy: 0.8960 - val_loss: 1.2940 - val_binary_accuracy: 0.9196\n"
     ]
    }
   ],
   "source": [
    "from keras.models import load_model\n",
    "model2 = load_model(\"Binary_Model2.h5\")\n",
    "\n",
    "result1_m2 = train_model(model2, epochs = 100, train_generator = train_gen, batch_size = batch_size, validation_generator= val_data, validation_steps = np.ceil(val_data.samples / batch_size))"
   ]
  },
  {
   "cell_type": "code",
   "execution_count": 17,
   "metadata": {},
   "outputs": [
    {
     "data": {
      "text/html": [
       "<div>\n",
       "<style scoped>\n",
       "    .dataframe tbody tr th:only-of-type {\n",
       "        vertical-align: middle;\n",
       "    }\n",
       "\n",
       "    .dataframe tbody tr th {\n",
       "        vertical-align: top;\n",
       "    }\n",
       "\n",
       "    .dataframe thead th {\n",
       "        text-align: right;\n",
       "    }\n",
       "</style>\n",
       "<table border=\"1\" class=\"dataframe\">\n",
       "  <thead>\n",
       "    <tr style=\"text-align: right;\">\n",
       "      <th></th>\n",
       "      <th>Diabetic_Retinopathy</th>\n",
       "      <th>No_Diabetic_Retinopathy</th>\n",
       "    </tr>\n",
       "  </thead>\n",
       "  <tbody>\n",
       "    <tr>\n",
       "      <th>0</th>\n",
       "      <td>97</td>\n",
       "      <td>62</td>\n",
       "    </tr>\n",
       "    <tr>\n",
       "      <th>1</th>\n",
       "      <td>82</td>\n",
       "      <td>70</td>\n",
       "    </tr>\n",
       "  </tbody>\n",
       "</table>\n",
       "</div>"
      ],
      "text/plain": [
       "   Diabetic_Retinopathy  No_Diabetic_Retinopathy\n",
       "0                    97                       62\n",
       "1                    82                       70"
      ]
     },
     "execution_count": 17,
     "metadata": {},
     "output_type": "execute_result"
    }
   ],
   "source": [
    "model2.save(\"Binary_Model2.h5\")\n",
    "conf_matrix(model2, \"binary\", val_data)"
   ]
  },
  {
   "cell_type": "code",
   "execution_count": 21,
   "metadata": {},
   "outputs": [
    {
     "name": "stdout",
     "output_type": "stream",
     "text": [
      "Epoch 1/100\n",
      "149/149 [==============================] - 539s 4s/step - loss: 1.8398 - binary_accuracy: 0.8856 - val_loss: 1.2438 - val_binary_accuracy: 0.9228\n",
      "Epoch 2/100\n",
      "149/149 [==============================] - 514s 3s/step - loss: 1.5450 - binary_accuracy: 0.9040 - val_loss: 1.3441 - val_binary_accuracy: 0.9164\n",
      "Epoch 3/100\n",
      "149/149 [==============================] - 519s 3s/step - loss: 1.6914 - binary_accuracy: 0.8948 - val_loss: 1.1396 - val_binary_accuracy: 0.9293\n",
      "Epoch 4/100\n",
      "149/149 [==============================] - 516s 3s/step - loss: 1.7288 - binary_accuracy: 0.8925 - val_loss: 1.4495 - val_binary_accuracy: 0.9100\n",
      "Epoch 5/100\n",
      "149/149 [==============================] - 526s 4s/step - loss: 1.6315 - binary_accuracy: 0.8985 - val_loss: 1.2945 - val_binary_accuracy: 0.9196\n",
      "Epoch 6/100\n",
      "149/149 [==============================] - 533s 4s/step - loss: 1.6523 - binary_accuracy: 0.8973 - val_loss: 1.1903 - val_binary_accuracy: 0.9260\n",
      "Epoch 7/100\n",
      "149/149 [==============================] - 521s 3s/step - loss: 1.6691 - binary_accuracy: 0.8962 - val_loss: 1.5001 - val_binary_accuracy: 0.9068\n",
      "Epoch 8/100\n",
      "149/149 [==============================] - 539s 4s/step - loss: 1.5718 - binary_accuracy: 0.9022 - val_loss: 1.1391 - val_binary_accuracy: 0.9293\n",
      "Epoch 9/100\n",
      "149/149 [==============================] - 521s 3s/step - loss: 1.7809 - binary_accuracy: 0.8892 - val_loss: 1.3452 - val_binary_accuracy: 0.9164\n",
      "Epoch 10/100\n",
      "149/149 [==============================] - 537s 4s/step - loss: 1.6846 - binary_accuracy: 0.8952 - val_loss: 1.2945 - val_binary_accuracy: 0.9196\n",
      "Epoch 11/100\n",
      "149/149 [==============================] - 533s 4s/step - loss: 1.7261 - binary_accuracy: 0.8926 - val_loss: 1.0872 - val_binary_accuracy: 0.9325\n",
      "Epoch 12/100\n",
      "149/149 [==============================] - 547s 4s/step - loss: 1.6268 - binary_accuracy: 0.8986 - val_loss: 1.5001 - val_binary_accuracy: 0.9068\n",
      "Epoch 13/100\n",
      "149/149 [==============================] - 557s 4s/step - loss: 1.5984 - binary_accuracy: 0.9006 - val_loss: 1.1914 - val_binary_accuracy: 0.9260\n",
      "Epoch 14/100\n",
      "149/149 [==============================] - 561s 4s/step - loss: 1.6861 - binary_accuracy: 0.8951 - val_loss: 1.5525 - val_binary_accuracy: 0.9035\n",
      "Epoch 15/100\n",
      "149/149 [==============================] - 547s 4s/step - loss: 1.8138 - binary_accuracy: 0.8870 - val_loss: 4.1264 - val_binary_accuracy: 0.7428\n",
      "Epoch 16/100\n",
      "149/149 [==============================] - 545s 4s/step - loss: 2.6935 - binary_accuracy: 0.8315 - val_loss: 1.0872 - val_binary_accuracy: 0.9325\n",
      "Epoch 17/100\n",
      "149/149 [==============================] - 563s 4s/step - loss: 1.6615 - binary_accuracy: 0.8965 - val_loss: 1.6038 - val_binary_accuracy: 0.9003\n",
      "Epoch 18/100\n",
      "149/149 [==============================] - 639s 4s/step - loss: 1.6691 - binary_accuracy: 0.8962 - val_loss: 0.8805 - val_binary_accuracy: 0.9453\n",
      "Epoch 19/100\n",
      "149/149 [==============================] - 993s 7s/step - loss: 1.6731 - binary_accuracy: 0.8959 - val_loss: 1.3976 - val_binary_accuracy: 0.9132\n",
      "Epoch 20/100\n",
      "149/149 [==============================] - 548s 4s/step - loss: 1.7091 - binary_accuracy: 0.8938 - val_loss: 1.4489 - val_binary_accuracy: 0.9100\n",
      "Epoch 21/100\n",
      "149/149 [==============================] - 543s 4s/step - loss: 1.7308 - binary_accuracy: 0.8923 - val_loss: 1.1391 - val_binary_accuracy: 0.9293\n",
      "Epoch 22/100\n",
      "149/149 [==============================] - 534s 4s/step - loss: 1.7347 - binary_accuracy: 0.8922 - val_loss: 1.6556 - val_binary_accuracy: 0.8971\n",
      "Epoch 23/100\n",
      "149/149 [==============================] - 539s 4s/step - loss: 1.8871 - binary_accuracy: 0.8824 - val_loss: 1.7080 - val_binary_accuracy: 0.8939\n",
      "Epoch 24/100\n",
      " 69/149 [============>.................] - ETA: 5:19 - loss: 3.4992 - binary_accuracy: 0.7826"
     ]
    },
    {
     "ename": "KeyboardInterrupt",
     "evalue": "",
     "output_type": "error",
     "traceback": [
      "\u001b[0;31m---------------------------------------------------------------------------\u001b[0m",
      "\u001b[0;31mKeyboardInterrupt\u001b[0m                         Traceback (most recent call last)",
      "\u001b[0;32m<ipython-input-21-6c514e68ed3b>\u001b[0m in \u001b[0;36m<module>\u001b[0;34m\u001b[0m\n\u001b[0;32m----> 1\u001b[0;31m \u001b[0mresult2_m2\u001b[0m \u001b[0;34m=\u001b[0m \u001b[0mtrain_model\u001b[0m\u001b[0;34m(\u001b[0m\u001b[0mmodel2\u001b[0m\u001b[0;34m,\u001b[0m \u001b[0mepochs\u001b[0m \u001b[0;34m=\u001b[0m \u001b[0;36m100\u001b[0m\u001b[0;34m,\u001b[0m \u001b[0mtrain_generator\u001b[0m \u001b[0;34m=\u001b[0m \u001b[0mtrain_gen\u001b[0m\u001b[0;34m,\u001b[0m \u001b[0mbatch_size\u001b[0m \u001b[0;34m=\u001b[0m \u001b[0mbatch_size\u001b[0m\u001b[0;34m,\u001b[0m \u001b[0mvalidation_generator\u001b[0m\u001b[0;34m=\u001b[0m \u001b[0mval_data\u001b[0m\u001b[0;34m,\u001b[0m \u001b[0mvalidation_steps\u001b[0m \u001b[0;34m=\u001b[0m \u001b[0mnp\u001b[0m\u001b[0;34m.\u001b[0m\u001b[0mceil\u001b[0m\u001b[0;34m(\u001b[0m\u001b[0mval_data\u001b[0m\u001b[0;34m.\u001b[0m\u001b[0msamples\u001b[0m \u001b[0;34m/\u001b[0m \u001b[0mbatch_size\u001b[0m\u001b[0;34m)\u001b[0m\u001b[0;34m)\u001b[0m\u001b[0;34m\u001b[0m\u001b[0;34m\u001b[0m\u001b[0m\n\u001b[0m",
      "\u001b[0;32m<ipython-input-4-169199fc7f6f>\u001b[0m in \u001b[0;36mtrain_model\u001b[0;34m(model, epochs, train_generator, batch_size, validation_generator, validation_steps)\u001b[0m\n\u001b[1;32m      7\u001b[0m                               \u001b[0msteps_per_epoch\u001b[0m \u001b[0;34m=\u001b[0m \u001b[0mround\u001b[0m\u001b[0;34m(\u001b[0m\u001b[0mtrain_generator\u001b[0m\u001b[0;34m.\u001b[0m\u001b[0msamples\u001b[0m \u001b[0;34m//\u001b[0m \u001b[0mbatch_size\u001b[0m\u001b[0;34m)\u001b[0m\u001b[0;34m,\u001b[0m\u001b[0;34m\u001b[0m\u001b[0;34m\u001b[0m\u001b[0m\n\u001b[1;32m      8\u001b[0m                               \u001b[0mvalidation_data\u001b[0m \u001b[0;34m=\u001b[0m \u001b[0mvalidation_generator\u001b[0m\u001b[0;34m,\u001b[0m\u001b[0;34m\u001b[0m\u001b[0;34m\u001b[0m\u001b[0m\n\u001b[0;32m----> 9\u001b[0;31m                               validation_steps = validation_steps)\n\u001b[0m\u001b[1;32m     10\u001b[0m     \u001b[0;32mreturn\u001b[0m \u001b[0mresults\u001b[0m\u001b[0;34m\u001b[0m\u001b[0;34m\u001b[0m\u001b[0m\n",
      "\u001b[0;32m~/anaconda3/lib/python3.7/site-packages/keras/legacy/interfaces.py\u001b[0m in \u001b[0;36mwrapper\u001b[0;34m(*args, **kwargs)\u001b[0m\n\u001b[1;32m     89\u001b[0m                 warnings.warn('Update your `' + object_name + '` call to the ' +\n\u001b[1;32m     90\u001b[0m                               'Keras 2 API: ' + signature, stacklevel=2)\n\u001b[0;32m---> 91\u001b[0;31m             \u001b[0;32mreturn\u001b[0m \u001b[0mfunc\u001b[0m\u001b[0;34m(\u001b[0m\u001b[0;34m*\u001b[0m\u001b[0margs\u001b[0m\u001b[0;34m,\u001b[0m \u001b[0;34m**\u001b[0m\u001b[0mkwargs\u001b[0m\u001b[0;34m)\u001b[0m\u001b[0;34m\u001b[0m\u001b[0;34m\u001b[0m\u001b[0m\n\u001b[0m\u001b[1;32m     92\u001b[0m         \u001b[0mwrapper\u001b[0m\u001b[0;34m.\u001b[0m\u001b[0m_original_function\u001b[0m \u001b[0;34m=\u001b[0m \u001b[0mfunc\u001b[0m\u001b[0;34m\u001b[0m\u001b[0;34m\u001b[0m\u001b[0m\n\u001b[1;32m     93\u001b[0m         \u001b[0;32mreturn\u001b[0m \u001b[0mwrapper\u001b[0m\u001b[0;34m\u001b[0m\u001b[0;34m\u001b[0m\u001b[0m\n",
      "\u001b[0;32m~/anaconda3/lib/python3.7/site-packages/keras/engine/training.py\u001b[0m in \u001b[0;36mfit_generator\u001b[0;34m(self, generator, steps_per_epoch, epochs, verbose, callbacks, validation_data, validation_steps, class_weight, max_queue_size, workers, use_multiprocessing, shuffle, initial_epoch)\u001b[0m\n\u001b[1;32m   1416\u001b[0m             \u001b[0muse_multiprocessing\u001b[0m\u001b[0;34m=\u001b[0m\u001b[0muse_multiprocessing\u001b[0m\u001b[0;34m,\u001b[0m\u001b[0;34m\u001b[0m\u001b[0;34m\u001b[0m\u001b[0m\n\u001b[1;32m   1417\u001b[0m             \u001b[0mshuffle\u001b[0m\u001b[0;34m=\u001b[0m\u001b[0mshuffle\u001b[0m\u001b[0;34m,\u001b[0m\u001b[0;34m\u001b[0m\u001b[0;34m\u001b[0m\u001b[0m\n\u001b[0;32m-> 1418\u001b[0;31m             initial_epoch=initial_epoch)\n\u001b[0m\u001b[1;32m   1419\u001b[0m \u001b[0;34m\u001b[0m\u001b[0m\n\u001b[1;32m   1420\u001b[0m     \u001b[0;34m@\u001b[0m\u001b[0minterfaces\u001b[0m\u001b[0;34m.\u001b[0m\u001b[0mlegacy_generator_methods_support\u001b[0m\u001b[0;34m\u001b[0m\u001b[0;34m\u001b[0m\u001b[0m\n",
      "\u001b[0;32m~/anaconda3/lib/python3.7/site-packages/keras/engine/training_generator.py\u001b[0m in \u001b[0;36mfit_generator\u001b[0;34m(model, generator, steps_per_epoch, epochs, verbose, callbacks, validation_data, validation_steps, class_weight, max_queue_size, workers, use_multiprocessing, shuffle, initial_epoch)\u001b[0m\n\u001b[1;32m    179\u001b[0m             \u001b[0mbatch_index\u001b[0m \u001b[0;34m=\u001b[0m \u001b[0;36m0\u001b[0m\u001b[0;34m\u001b[0m\u001b[0;34m\u001b[0m\u001b[0m\n\u001b[1;32m    180\u001b[0m             \u001b[0;32mwhile\u001b[0m \u001b[0msteps_done\u001b[0m \u001b[0;34m<\u001b[0m \u001b[0msteps_per_epoch\u001b[0m\u001b[0;34m:\u001b[0m\u001b[0;34m\u001b[0m\u001b[0;34m\u001b[0m\u001b[0m\n\u001b[0;32m--> 181\u001b[0;31m                 \u001b[0mgenerator_output\u001b[0m \u001b[0;34m=\u001b[0m \u001b[0mnext\u001b[0m\u001b[0;34m(\u001b[0m\u001b[0moutput_generator\u001b[0m\u001b[0;34m)\u001b[0m\u001b[0;34m\u001b[0m\u001b[0;34m\u001b[0m\u001b[0m\n\u001b[0m\u001b[1;32m    182\u001b[0m \u001b[0;34m\u001b[0m\u001b[0m\n\u001b[1;32m    183\u001b[0m                 \u001b[0;32mif\u001b[0m \u001b[0;32mnot\u001b[0m \u001b[0mhasattr\u001b[0m\u001b[0;34m(\u001b[0m\u001b[0mgenerator_output\u001b[0m\u001b[0;34m,\u001b[0m \u001b[0;34m'__len__'\u001b[0m\u001b[0;34m)\u001b[0m\u001b[0;34m:\u001b[0m\u001b[0;34m\u001b[0m\u001b[0;34m\u001b[0m\u001b[0m\n",
      "\u001b[0;32m~/anaconda3/lib/python3.7/site-packages/keras/utils/data_utils.py\u001b[0m in \u001b[0;36mget\u001b[0;34m(self)\u001b[0m\n\u001b[1;32m    683\u001b[0m         \u001b[0;32mtry\u001b[0m\u001b[0;34m:\u001b[0m\u001b[0;34m\u001b[0m\u001b[0;34m\u001b[0m\u001b[0m\n\u001b[1;32m    684\u001b[0m             \u001b[0;32mwhile\u001b[0m \u001b[0mself\u001b[0m\u001b[0;34m.\u001b[0m\u001b[0mis_running\u001b[0m\u001b[0;34m(\u001b[0m\u001b[0;34m)\u001b[0m\u001b[0;34m:\u001b[0m\u001b[0;34m\u001b[0m\u001b[0;34m\u001b[0m\u001b[0m\n\u001b[0;32m--> 685\u001b[0;31m                 \u001b[0minputs\u001b[0m \u001b[0;34m=\u001b[0m \u001b[0mself\u001b[0m\u001b[0;34m.\u001b[0m\u001b[0mqueue\u001b[0m\u001b[0;34m.\u001b[0m\u001b[0mget\u001b[0m\u001b[0;34m(\u001b[0m\u001b[0mblock\u001b[0m\u001b[0;34m=\u001b[0m\u001b[0;32mTrue\u001b[0m\u001b[0;34m)\u001b[0m\u001b[0;34m.\u001b[0m\u001b[0mget\u001b[0m\u001b[0;34m(\u001b[0m\u001b[0;34m)\u001b[0m\u001b[0;34m\u001b[0m\u001b[0;34m\u001b[0m\u001b[0m\n\u001b[0m\u001b[1;32m    686\u001b[0m                 \u001b[0mself\u001b[0m\u001b[0;34m.\u001b[0m\u001b[0mqueue\u001b[0m\u001b[0;34m.\u001b[0m\u001b[0mtask_done\u001b[0m\u001b[0;34m(\u001b[0m\u001b[0;34m)\u001b[0m\u001b[0;34m\u001b[0m\u001b[0;34m\u001b[0m\u001b[0m\n\u001b[1;32m    687\u001b[0m                 \u001b[0;32mif\u001b[0m \u001b[0minputs\u001b[0m \u001b[0;32mis\u001b[0m \u001b[0;32mnot\u001b[0m \u001b[0;32mNone\u001b[0m\u001b[0;34m:\u001b[0m\u001b[0;34m\u001b[0m\u001b[0;34m\u001b[0m\u001b[0m\n",
      "\u001b[0;32m~/anaconda3/lib/python3.7/multiprocessing/pool.py\u001b[0m in \u001b[0;36mget\u001b[0;34m(self, timeout)\u001b[0m\n\u001b[1;32m    649\u001b[0m \u001b[0;34m\u001b[0m\u001b[0m\n\u001b[1;32m    650\u001b[0m     \u001b[0;32mdef\u001b[0m \u001b[0mget\u001b[0m\u001b[0;34m(\u001b[0m\u001b[0mself\u001b[0m\u001b[0;34m,\u001b[0m \u001b[0mtimeout\u001b[0m\u001b[0;34m=\u001b[0m\u001b[0;32mNone\u001b[0m\u001b[0;34m)\u001b[0m\u001b[0;34m:\u001b[0m\u001b[0;34m\u001b[0m\u001b[0;34m\u001b[0m\u001b[0m\n\u001b[0;32m--> 651\u001b[0;31m         \u001b[0mself\u001b[0m\u001b[0;34m.\u001b[0m\u001b[0mwait\u001b[0m\u001b[0;34m(\u001b[0m\u001b[0mtimeout\u001b[0m\u001b[0;34m)\u001b[0m\u001b[0;34m\u001b[0m\u001b[0;34m\u001b[0m\u001b[0m\n\u001b[0m\u001b[1;32m    652\u001b[0m         \u001b[0;32mif\u001b[0m \u001b[0;32mnot\u001b[0m \u001b[0mself\u001b[0m\u001b[0;34m.\u001b[0m\u001b[0mready\u001b[0m\u001b[0;34m(\u001b[0m\u001b[0;34m)\u001b[0m\u001b[0;34m:\u001b[0m\u001b[0;34m\u001b[0m\u001b[0;34m\u001b[0m\u001b[0m\n\u001b[1;32m    653\u001b[0m             \u001b[0;32mraise\u001b[0m \u001b[0mTimeoutError\u001b[0m\u001b[0;34m\u001b[0m\u001b[0;34m\u001b[0m\u001b[0m\n",
      "\u001b[0;32m~/anaconda3/lib/python3.7/multiprocessing/pool.py\u001b[0m in \u001b[0;36mwait\u001b[0;34m(self, timeout)\u001b[0m\n\u001b[1;32m    646\u001b[0m \u001b[0;34m\u001b[0m\u001b[0m\n\u001b[1;32m    647\u001b[0m     \u001b[0;32mdef\u001b[0m \u001b[0mwait\u001b[0m\u001b[0;34m(\u001b[0m\u001b[0mself\u001b[0m\u001b[0;34m,\u001b[0m \u001b[0mtimeout\u001b[0m\u001b[0;34m=\u001b[0m\u001b[0;32mNone\u001b[0m\u001b[0;34m)\u001b[0m\u001b[0;34m:\u001b[0m\u001b[0;34m\u001b[0m\u001b[0;34m\u001b[0m\u001b[0m\n\u001b[0;32m--> 648\u001b[0;31m         \u001b[0mself\u001b[0m\u001b[0;34m.\u001b[0m\u001b[0m_event\u001b[0m\u001b[0;34m.\u001b[0m\u001b[0mwait\u001b[0m\u001b[0;34m(\u001b[0m\u001b[0mtimeout\u001b[0m\u001b[0;34m)\u001b[0m\u001b[0;34m\u001b[0m\u001b[0;34m\u001b[0m\u001b[0m\n\u001b[0m\u001b[1;32m    649\u001b[0m \u001b[0;34m\u001b[0m\u001b[0m\n\u001b[1;32m    650\u001b[0m     \u001b[0;32mdef\u001b[0m \u001b[0mget\u001b[0m\u001b[0;34m(\u001b[0m\u001b[0mself\u001b[0m\u001b[0;34m,\u001b[0m \u001b[0mtimeout\u001b[0m\u001b[0;34m=\u001b[0m\u001b[0;32mNone\u001b[0m\u001b[0;34m)\u001b[0m\u001b[0;34m:\u001b[0m\u001b[0;34m\u001b[0m\u001b[0;34m\u001b[0m\u001b[0m\n",
      "\u001b[0;32m~/anaconda3/lib/python3.7/threading.py\u001b[0m in \u001b[0;36mwait\u001b[0;34m(self, timeout)\u001b[0m\n\u001b[1;32m    550\u001b[0m             \u001b[0msignaled\u001b[0m \u001b[0;34m=\u001b[0m \u001b[0mself\u001b[0m\u001b[0;34m.\u001b[0m\u001b[0m_flag\u001b[0m\u001b[0;34m\u001b[0m\u001b[0;34m\u001b[0m\u001b[0m\n\u001b[1;32m    551\u001b[0m             \u001b[0;32mif\u001b[0m \u001b[0;32mnot\u001b[0m \u001b[0msignaled\u001b[0m\u001b[0;34m:\u001b[0m\u001b[0;34m\u001b[0m\u001b[0;34m\u001b[0m\u001b[0m\n\u001b[0;32m--> 552\u001b[0;31m                 \u001b[0msignaled\u001b[0m \u001b[0;34m=\u001b[0m \u001b[0mself\u001b[0m\u001b[0;34m.\u001b[0m\u001b[0m_cond\u001b[0m\u001b[0;34m.\u001b[0m\u001b[0mwait\u001b[0m\u001b[0;34m(\u001b[0m\u001b[0mtimeout\u001b[0m\u001b[0;34m)\u001b[0m\u001b[0;34m\u001b[0m\u001b[0;34m\u001b[0m\u001b[0m\n\u001b[0m\u001b[1;32m    553\u001b[0m             \u001b[0;32mreturn\u001b[0m \u001b[0msignaled\u001b[0m\u001b[0;34m\u001b[0m\u001b[0;34m\u001b[0m\u001b[0m\n\u001b[1;32m    554\u001b[0m \u001b[0;34m\u001b[0m\u001b[0m\n",
      "\u001b[0;32m~/anaconda3/lib/python3.7/threading.py\u001b[0m in \u001b[0;36mwait\u001b[0;34m(self, timeout)\u001b[0m\n\u001b[1;32m    294\u001b[0m         \u001b[0;32mtry\u001b[0m\u001b[0;34m:\u001b[0m    \u001b[0;31m# restore state no matter what (e.g., KeyboardInterrupt)\u001b[0m\u001b[0;34m\u001b[0m\u001b[0;34m\u001b[0m\u001b[0m\n\u001b[1;32m    295\u001b[0m             \u001b[0;32mif\u001b[0m \u001b[0mtimeout\u001b[0m \u001b[0;32mis\u001b[0m \u001b[0;32mNone\u001b[0m\u001b[0;34m:\u001b[0m\u001b[0;34m\u001b[0m\u001b[0;34m\u001b[0m\u001b[0m\n\u001b[0;32m--> 296\u001b[0;31m                 \u001b[0mwaiter\u001b[0m\u001b[0;34m.\u001b[0m\u001b[0macquire\u001b[0m\u001b[0;34m(\u001b[0m\u001b[0;34m)\u001b[0m\u001b[0;34m\u001b[0m\u001b[0;34m\u001b[0m\u001b[0m\n\u001b[0m\u001b[1;32m    297\u001b[0m                 \u001b[0mgotit\u001b[0m \u001b[0;34m=\u001b[0m \u001b[0;32mTrue\u001b[0m\u001b[0;34m\u001b[0m\u001b[0;34m\u001b[0m\u001b[0m\n\u001b[1;32m    298\u001b[0m             \u001b[0;32melse\u001b[0m\u001b[0;34m:\u001b[0m\u001b[0;34m\u001b[0m\u001b[0;34m\u001b[0m\u001b[0m\n",
      "\u001b[0;31mKeyboardInterrupt\u001b[0m: "
     ]
    }
   ],
   "source": [
    "result2_m2 = train_model(model2, epochs = 100, train_generator = train_gen, batch_size = batch_size, validation_generator= val_data, validation_steps = np.ceil(val_data.samples / batch_size))"
   ]
  },
  {
   "cell_type": "code",
   "execution_count": 23,
   "metadata": {},
   "outputs": [
    {
     "data": {
      "text/html": [
       "<div>\n",
       "<style scoped>\n",
       "    .dataframe tbody tr th:only-of-type {\n",
       "        vertical-align: middle;\n",
       "    }\n",
       "\n",
       "    .dataframe tbody tr th {\n",
       "        vertical-align: top;\n",
       "    }\n",
       "\n",
       "    .dataframe thead th {\n",
       "        text-align: right;\n",
       "    }\n",
       "</style>\n",
       "<table border=\"1\" class=\"dataframe\">\n",
       "  <thead>\n",
       "    <tr style=\"text-align: right;\">\n",
       "      <th></th>\n",
       "      <th>Diabetic_Retinopathy</th>\n",
       "      <th>No_Diabetic_Retinopathy</th>\n",
       "    </tr>\n",
       "  </thead>\n",
       "  <tbody>\n",
       "    <tr>\n",
       "      <th>0</th>\n",
       "      <td>110</td>\n",
       "      <td>49</td>\n",
       "    </tr>\n",
       "    <tr>\n",
       "      <th>1</th>\n",
       "      <td>105</td>\n",
       "      <td>47</td>\n",
       "    </tr>\n",
       "  </tbody>\n",
       "</table>\n",
       "</div>"
      ],
      "text/plain": [
       "   Diabetic_Retinopathy  No_Diabetic_Retinopathy\n",
       "0                   110                       49\n",
       "1                   105                       47"
      ]
     },
     "execution_count": 23,
     "metadata": {},
     "output_type": "execute_result"
    }
   ],
   "source": [
    "model2.save(\"Binary_Model2_1.h5\")\n",
    "conf_matrix(model2, \"binary\", val_data)"
   ]
  },
  {
   "cell_type": "code",
   "execution_count": 27,
   "metadata": {},
   "outputs": [
    {
     "data": {
      "image/png": "[encoded data removed]",
      "text/plain": [
       "<Figure size 1080x1080 with 2 Axes>"
      ]
     },
     "metadata": {
      "needs_background": "light"
     },
     "output_type": "display_data"
    }
   ],
   "source": [
    "plot_results(result1_m2, accuracy_type = \"binary_accuracy\", model_name = \"Binary_model\")"
   ]
  },
  {
   "cell_type": "markdown",
   "metadata": {},
   "source": [
    "## Testing on Images"
   ]
  },
  {
   "cell_type": "code",
   "execution_count": 21,
   "metadata": {},
   "outputs": [],
   "source": [
    "base_1 = \"/home/zeski/Documents/PythonLessons/MachineLearning/Projects/DiabeticRetinopathy/ProjectData/Binary\"\n",
    "os.chdir(val_base)"
   ]
  },
  {
   "cell_type": "code",
   "execution_count": 44,
   "metadata": {},
   "outputs": [],
   "source": [
    "os.chdir(\"../No_Diabetic_Retinopathy/\")"
   ]
  },
  {
   "cell_type": "code",
   "execution_count": 45,
   "metadata": {},
   "outputs": [
    {
     "name": "stdout",
     "output_type": "stream",
     "text": [
      "[[0.9916918]] Diabetic_Retinopathy\n",
      "[[0.9951137]] Diabetic_Retinopathy\n",
      "[[0.9984641]] Diabetic_Retinopathy\n",
      "[[0.9978942]] Diabetic_Retinopathy\n",
      "[[0.99999774]] Diabetic_Retinopathy\n",
      "[[0.9999391]] Diabetic_Retinopathy\n",
      "[[0.9927718]] Diabetic_Retinopathy\n",
      "[[0.9991198]] Diabetic_Retinopathy\n",
      "[[0.99285156]] Diabetic_Retinopathy\n",
      "[[0.9055553]] Diabetic_Retinopathy\n"
     ]
    }
   ],
   "source": [
    "\n",
    "from keras.preprocessing import image\n",
    "\n",
    "for i in os.listdir()[:10]:\n",
    "    img = image.load_img(i, target_size=(input_shape[:2]))\n",
    "\n",
    "    img = image.img_to_array(img)\n",
    "    img =  np.expand_dims(img, axis=0)\n",
    "    img /= 255\n",
    "    print(model.predict(img), class_labels[np.argmax(model.predict(img))])\n"
   ]
  },
  {
   "cell_type": "code",
   "execution_count": null,
   "metadata": {},
   "outputs": [],
   "source": []
  }
 ],
 "metadata": {
  "kernelspec": {
   "display_name": "Python 3",
   "language": "python",
   "name": "python3"
  },
  "language_info": {
   "codemirror_mode": {
    "name": "ipython",
    "version": 3
   },
   "file_extension": ".py",
   "mimetype": "text/x-python",
   "name": "python",
   "nbconvert_exporter": "python",
   "pygments_lexer": "ipython3",
   "version": "3.7.3"
  }
 },
 "nbformat": 4,
 "nbformat_minor": 2
}
